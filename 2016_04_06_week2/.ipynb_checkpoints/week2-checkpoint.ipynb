{
 "cells": [
  {
   "cell_type": "markdown",
   "metadata": {},
   "source": [
    "# Neurobio Programming Club Week 2\n",
    "\n",
    "* Our website: [kyleellefsen.github.io/UCI_Programming_Club/](http://kyleellefsen.github.io/UCI_Programming_Club/)\n",
    "* Our codeshare: [codeshare.io/pYj0e](https://codeshare.io/pYj0e) <- This wasn't working this morning\n",
    "* Our chatroom: [gitter.im/kyleellefsen/UCI_Programming_Club](https://gitter.im/kyleellefsen/UCI_Programming_Club)\n",
    "\n",
    "\n"
   ]
  },
  {
   "cell_type": "markdown",
   "metadata": {},
   "source": [
    "# Week 1 Recap\n",
    "\n",
    "The notebook from last week is located on the website: http://kyleellefsen.github.io/UCI_Programming_Club/2016_03_30_intro_to_python/week1.html\n",
    "\n",
    "Last week we went over variables, data types, data IO, string manipulation, and we touched on control statements (if statements).  This week we're going to get a little more used to those concepts, and we'll add a few more.  "
   ]
  },
  {
   "cell_type": "markdown",
   "metadata": {},
   "source": [
    "# Instructions\n",
    "Get in groups of 2 or 3.  Each group must have at least:\n",
    "\n",
    "* 1 person who is familiar with the basics of python\n",
    "* 1 person who is new to python\n",
    "\n",
    "Today we will be doing a series of challenges designed to get you through the basics of programming.  Each challenge will require you to write some code to get an answer.  To figure out how to write the code you need, you can use your group members, the internet, or anything else.  You can even use other groups, but they might not appreciate that.  Because...\n",
    "\n",
    "The first two groups to solve the problem will get a prize.  A requirement for solving is that *every* group member must have coded the solution.  Everyone with a laptop must have also displayed the answer.  If you didn't bring a laptop, you'll have to have physically written out the code, exactly as it would be typed.  Obviously, people without laptops won't be able to get python to produce an answer. :( \n",
    "\n",
    "Let's begin!\n",
    "\n"
   ]
  },
  {
   "cell_type": "markdown",
   "metadata": {},
   "source": [
    "#  \n",
    "#  \n",
    "#  \n",
    "#  \n",
    "#  \n",
    "#  \n",
    "#  \n",
    "#  \n",
    "#  \n",
    "#  \n",
    "#  \n",
    "#  \n",
    "#  \n",
    "#  \n",
    "#  \n",
    "#  \n",
    "#  \n",
    "#  \n",
    "#  \n",
    "#  \n",
    "#  \n"
   ]
  },
  {
   "cell_type": "markdown",
   "metadata": {},
   "source": [
    "# Challenge 1: Packages, Excel Files, and Beer\n",
    "\n",
    "![Side Door Drinks](side_door_drinks.jpg)\n",
    "\n",
    "* Download the .xlsx file from [tinyurl.com/zyn4rqq](https://github.com/kyleellefsen/UCI_Programming_Club/blob/gh-pages/2016_04_06_week2/side_door_drinks.xlsx?raw=true)\n",
    "* Check to make sure you have a package installed which enables importing excel files.  Here (http://scitru.com/articles/2c/) is a brief overview of excel importing packages if you don't.\n",
    "* Import the file into python\n",
    "* Find the drink with highest quantity (not percentage) of ethanol per dollar. Print the name of that drink.\n",
    "* Find the drink with the lowest quantity of ethanol per dollar.  Print the name of that drink.\n",
    "* Make a new excel file that is exactly the same as the original except that it has a column with ethanol per dollar.  Save this file to your hard drive.  Tutorial on writing excel sheets: https://yuji.wordpress.com/2012/04/19/python-xlwt-writing-excel-files/"
   ]
  },
  {
   "cell_type": "code",
   "execution_count": 34,
   "metadata": {
    "collapsed": false
   },
   "outputs": [
    {
     "name": "stdout",
     "output_type": "stream",
     "text": [
      "[]\n",
      "[87.42857142857143]\n",
      "[87.42857142857143, 112.5]\n",
      "[87.42857142857143, 112.5, 77.14285714285714]\n",
      "[87.42857142857143, 112.5, 77.14285714285714, 73.33333333333333]\n",
      "[87.42857142857143, 112.5, 77.14285714285714, 73.33333333333333, 104.0]\n",
      "[87.42857142857143, 112.5, 77.14285714285714, 73.33333333333333, 104.0, 140.44444444444446]\n",
      "[87.42857142857143, 112.5, 77.14285714285714, 73.33333333333333, 104.0, 140.44444444444446, 75.0]\n",
      "[87.42857142857143, 112.5, 77.14285714285714, 73.33333333333333, 104.0, 140.44444444444446, 75.0, 130.0]\n",
      "[87.42857142857143, 112.5, 77.14285714285714, 73.33333333333333, 104.0, 140.44444444444446, 75.0, 130.0, 141.71428571428572]\n",
      "[87.42857142857143, 112.5, 77.14285714285714, 73.33333333333333, 104.0, 140.44444444444446, 75.0, 130.0, 141.71428571428572, 100.0]\n",
      "[87.42857142857143, 112.5, 77.14285714285714, 73.33333333333333, 104.0, 140.44444444444446, 75.0, 130.0, 141.71428571428572, 100.0, 91.1111111111111]\n",
      "[87.42857142857143, 112.5, 77.14285714285714, 73.33333333333333, 104.0, 140.44444444444446, 75.0, 130.0, 141.71428571428572, 100.0, 91.1111111111111, 154.28571428571428]\n"
     ]
    }
   ],
   "source": [
    "import xlrd\n",
    "path='/Users/kyle/Github/UCI_Programming_Club/2016_04_06_week2/side_door_drinks.xlsx'\n",
    "book = xlrd.open_workbook(path)\n",
    "first_sheet = book.sheet_by_index(0)\n",
    "mass=first_sheet.col(1)[1:]\n",
    "ethanol=first_sheet.col(2)[1:]\n",
    "price = first_sheet.col(3)[1:]\n",
    "\n",
    "eth_per_price=[]\n",
    "for i in range(len(mass)):\n",
    "    print(eth_per_price)\n",
    "    answer = mass[i].value * ethanol[i].value / price[i].value\n",
    "    eth_per_price.append(answer)\n",
    "print(eth_per_price)"
   ]
  },
  {
   "cell_type": "code",
   "execution_count": null,
   "metadata": {
    "collapsed": true
   },
   "outputs": [],
   "source": []
  },
  {
   "cell_type": "code",
   "execution_count": 31,
   "metadata": {
    "collapsed": false
   },
   "outputs": [
    {
     "data": {
      "text/plain": [
       "float"
      ]
     },
     "execution_count": 31,
     "metadata": {},
     "output_type": "execute_result"
    }
   ],
   "source": [
    "type(mass[5].value)"
   ]
  },
  {
   "cell_type": "code",
   "execution_count": 10,
   "metadata": {
    "collapsed": false
   },
   "outputs": [
    {
     "data": {
      "text/html": [
       "<div>\n",
       "<table border=\"1\" class=\"dataframe\">\n",
       "  <thead>\n",
       "    <tr style=\"text-align: right;\">\n",
       "      <th></th>\n",
       "      <th>Beer</th>\n",
       "      <th>Mass (oz)</th>\n",
       "      <th>Percent Ethanol</th>\n",
       "      <th>Price ($)</th>\n",
       "    </tr>\n",
       "  </thead>\n",
       "  <tbody>\n",
       "    <tr>\n",
       "      <th>0</th>\n",
       "      <td>Weihenstephaner Pils</td>\n",
       "      <td>120</td>\n",
       "      <td>5.1</td>\n",
       "      <td>7</td>\n",
       "    </tr>\n",
       "    <tr>\n",
       "      <th>1</th>\n",
       "      <td>Ladyface La Trappistine</td>\n",
       "      <td>100</td>\n",
       "      <td>9.0</td>\n",
       "      <td>8</td>\n",
       "    </tr>\n",
       "    <tr>\n",
       "      <th>2</th>\n",
       "      <td>Anchor Mango Wheat</td>\n",
       "      <td>120</td>\n",
       "      <td>4.5</td>\n",
       "      <td>7</td>\n",
       "    </tr>\n",
       "    <tr>\n",
       "      <th>3</th>\n",
       "      <td>Lost Abbey Cuvee de Tomme</td>\n",
       "      <td>80</td>\n",
       "      <td>11.0</td>\n",
       "      <td>12</td>\n",
       "    </tr>\n",
       "    <tr>\n",
       "      <th>4</th>\n",
       "      <td>Old Speckled Hen-nitro</td>\n",
       "      <td>160</td>\n",
       "      <td>5.2</td>\n",
       "      <td>8</td>\n",
       "    </tr>\n",
       "    <tr>\n",
       "      <th>5</th>\n",
       "      <td>Lagunitas Citrusinensis</td>\n",
       "      <td>160</td>\n",
       "      <td>7.9</td>\n",
       "      <td>9</td>\n",
       "    </tr>\n",
       "    <tr>\n",
       "      <th>6</th>\n",
       "      <td>Epis Tart n' Juicy Sour IPA</td>\n",
       "      <td>100</td>\n",
       "      <td>4.5</td>\n",
       "      <td>6</td>\n",
       "    </tr>\n",
       "    <tr>\n",
       "      <th>7</th>\n",
       "      <td>Green Flash Tangerine Soul Style</td>\n",
       "      <td>160</td>\n",
       "      <td>6.5</td>\n",
       "      <td>8</td>\n",
       "    </tr>\n",
       "    <tr>\n",
       "      <th>8</th>\n",
       "      <td>Epic Escape to Colorado</td>\n",
       "      <td>160</td>\n",
       "      <td>6.2</td>\n",
       "      <td>7</td>\n",
       "    </tr>\n",
       "    <tr>\n",
       "      <th>9</th>\n",
       "      <td>Knee Deep Lupulin River</td>\n",
       "      <td>100</td>\n",
       "      <td>8.0</td>\n",
       "      <td>8</td>\n",
       "    </tr>\n",
       "    <tr>\n",
       "      <th>10</th>\n",
       "      <td>Epic Son of a Baptist</td>\n",
       "      <td>100</td>\n",
       "      <td>8.2</td>\n",
       "      <td>9</td>\n",
       "    </tr>\n",
       "    <tr>\n",
       "      <th>11</th>\n",
       "      <td>Anderson Valley Huge Arker</td>\n",
       "      <td>80</td>\n",
       "      <td>13.5</td>\n",
       "      <td>7</td>\n",
       "    </tr>\n",
       "  </tbody>\n",
       "</table>\n",
       "</div>"
      ],
      "text/plain": [
       "                                Beer  Mass (oz)  Percent Ethanol  Price ($)\n",
       "0               Weihenstephaner Pils        120              5.1          7\n",
       "1            Ladyface La Trappistine        100              9.0          8\n",
       "2                 Anchor Mango Wheat        120              4.5          7\n",
       "3          Lost Abbey Cuvee de Tomme         80             11.0         12\n",
       "4             Old Speckled Hen-nitro        160              5.2          8\n",
       "5            Lagunitas Citrusinensis        160              7.9          9\n",
       "6        Epis Tart n' Juicy Sour IPA        100              4.5          6\n",
       "7   Green Flash Tangerine Soul Style        160              6.5          8\n",
       "8            Epic Escape to Colorado        160              6.2          7\n",
       "9            Knee Deep Lupulin River        100              8.0          8\n",
       "10             Epic Son of a Baptist        100              8.2          9\n",
       "11        Anderson Valley Huge Arker         80             13.5          7"
      ]
     },
     "metadata": {},
     "output_type": "display_data"
    }
   ],
   "source": [
    "from IPython.display import display, HTML\n",
    "import pandas\n",
    "path='/Users/kyle/Github/UCI_Programming_Club/2016_04_06_week2/side_door_drinks.xlsx'\n",
    "df = pandas.read_excel(path)\n",
    "display(df)"
   ]
  },
  {
   "cell_type": "code",
   "execution_count": 15,
   "metadata": {
    "collapsed": false
   },
   "outputs": [
    {
     "data": {
      "text/plain": [
       "0                 Weihenstephaner Pils\n",
       "1              Ladyface La Trappistine\n",
       "2                   Anchor Mango Wheat\n",
       "3            Lost Abbey Cuvee de Tomme\n",
       "4               Old Speckled Hen-nitro\n",
       "5              Lagunitas Citrusinensis\n",
       "6          Epis Tart n' Juicy Sour IPA\n",
       "7     Green Flash Tangerine Soul Style\n",
       "8              Epic Escape to Colorado\n",
       "9              Knee Deep Lupulin River\n",
       "10               Epic Son of a Baptist\n",
       "11          Anderson Valley Huge Arker\n",
       "Name: Beer, dtype: object"
      ]
     },
     "execution_count": 15,
     "metadata": {},
     "output_type": "execute_result"
    }
   ],
   "source": [
    "eth_per_price=df['Mass (oz)'] * df['Percent Ethanol'] / df['Price ($)']\n",
    "df['Beer']"
   ]
  }
 ],
 "metadata": {
  "kernelspec": {
   "display_name": "Python 2",
   "language": "python",
   "name": "python2"
  },
  "language_info": {
   "codemirror_mode": {
    "name": "ipython",
    "version": 2
   },
   "file_extension": ".py",
   "mimetype": "text/x-python",
   "name": "python",
   "nbconvert_exporter": "python",
   "pygments_lexer": "ipython2",
   "version": "2.7.11"
  }
 },
 "nbformat": 4,
 "nbformat_minor": 0
}
