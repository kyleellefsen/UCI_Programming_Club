{
 "cells": [
  {
   "cell_type": "markdown",
   "metadata": {
    "collapsed": true
   },
   "source": [
    "# PyQt4\n",
    "A python library for creating graphical user interfaces (GUIs).\n",
    "PyQt4 comes with Anaconda so no one should need to install anything.\n",
    "So here's the interesting part... THE CODE!\n",
    "\n",
    "In order to use PyQt4 in python, there are a few mandatory steps. Firstly, import PyQt4:"
   ]
  },
  {
   "cell_type": "code",
   "execution_count": 1,
   "metadata": {
    "collapsed": true
   },
   "outputs": [],
   "source": [
    "from PyQt4 import QtCore, QtGui\n",
    "# QtGui provides the tools to create windows, design layouts, and add widgets to that layout that the user will interact with\n",
    "# QtCore is a much less important library that we won't talk about as much"
   ]
  },
  {
   "cell_type": "markdown",
   "metadata": {},
   "source": [
    "Now we can use the PyQt4 library to create a UI.  Programming windows requires multithreading to handle the graphics and the backend simultaneously. Fortunately, PyQt4 handles most of that for us, once we set up the event loop. This must be done before and windows or widgets are created, so let's do it under the import"
   ]
  },
  {
   "cell_type": "code",
   "execution_count": 2,
   "metadata": {
    "collapsed": false
   },
   "outputs": [],
   "source": [
    "app = QtGui.QApplication([])\n",
    "# this creates an instance of the QApplication object, which will be used to maintain your window"
   ]
  },
  {
   "cell_type": "markdown",
   "metadata": {},
   "source": [
    "Next, we create a window object and display it. For now, let's just get a simple window to show up."
   ]
  },
  {
   "cell_type": "code",
   "execution_count": 3,
   "metadata": {
    "collapsed": false
   },
   "outputs": [],
   "source": [
    "window = QtGui.QMainWindow()  # create a window object\n",
    "window.show()                 # display it"
   ]
  },
  {
   "cell_type": "markdown",
   "metadata": {},
   "source": [
    "Depending on where you're running your code, a window may show up. If it hasn't yet, don't worry. If you try to open that window, chances are it won't respond. It looks frozen! That's because our QApplication object isn't running yet. So let's get that started so we can use our window."
   ]
  },
  {
   "cell_type": "code",
   "execution_count": null,
   "metadata": {
    "collapsed": true
   },
   "outputs": [],
   "source": [
    "app.exec_()"
   ]
  },
  {
   "cell_type": "markdown",
   "metadata": {},
   "source": [
    "Now you can click your window and resize it and everything! IT'S ALIVE!\n",
    "\n",
    "Ok it's not really alive, it's just a blank dialog box that doesn't do anything. Close the window to end the QApplication.\n",
    "\n",
    "__NOTE__: If your app.exec\\_() kernel is still running, you will have to restart the IPython notebook or find some other way to stop execution.\n",
    "\n",
    "Use the code below as a starter for most UI programs"
   ]
  },
  {
   "cell_type": "code",
   "execution_count": 4,
   "metadata": {
    "collapsed": false
   },
   "outputs": [],
   "source": [
    "from PyQt4 import QtGui, QtCore\n",
    "app = QtGui.QApplication([])\n",
    "\n",
    "window = QtGui.QMainWindow()\n",
    "\n",
    "# extra code here\n",
    "\n",
    "window.show()\n",
    "\n",
    "app.exec_()"
   ]
  },
  {
   "cell_type": "markdown",
   "metadata": {},
   "source": [
    "### All PyQt4 widgets have the \"show\" function that can be used to display them.\n",
    "Important widgets:\n",
    "1. QMainWindow : creates a window with a menubar, statusbar, and preset internal layout\n",
    "2. QWidget : blank widget which can contain a layout of other widgets\n",
    "3. Interaction Widgets: QPushButton, QLineEdit, QTextEdit, QSpinBox, QComboBox, QLabel\n",
    "\n",
    "Widgets are combined inside layouts\n",
    "- QGridLayout, QHBoxLayout, QVBoxLayout, QFormLayout\n",
    "\n",
    "The PyQt4 Documentation can be referred to for how to use these layouts\n",
    "\n",
    "There are two ways to add widgets to a window.\n",
    "1. Inline code\n",
    "2. The PyQt Designer"
   ]
  },
  {
   "cell_type": "markdown",
   "metadata": {},
   "source": [
    "### Exercises\n",
    "The most basic program to start with is Hello, World!\n",
    "Make a window that pops up and says Hello, World!\n",
    "\n",
    "__HINT__: use the \"show()\" method on a QLabel object"
   ]
  },
  {
   "cell_type": "markdown",
   "metadata": {},
   "source": [
    "### Exercise\n",
    "Labels are useful but they don't DO anything. Now let's make a button that shows a greeting when you click it.\n",
    "\n",
    "This can be achieved through PyQt's signals. Connect the 'pressed' signal of a QPushButton to a method that shows a message somehow\n",
    "    - Set the Button Text\n",
    "    - Open a QMessageBox\n",
    "    - Or do something else\n"
   ]
  },
  {
   "cell_type": "markdown",
   "metadata": {},
   "source": [
    "### Exercise\n",
    "Next, add widgets to enter gender, first name, and last name.\n",
    "This is much more difficult, because you will need a layout to hold multiple widgets.\n",
    "\n",
    "Start by creating a QWidget with QFormLayout to organize the widgets.\n",
    "To do:\n",
    "- create a window\n",
    "- set the layout to a QFormLayout\n",
    "- add 5 rows to the layout\n",
    "    - QCombobox for prefix (Mr. Ms. Mrs.)\n",
    "    - QLineEdit for First Name\n",
    "    - QLineEdit Last Name\n",
    "    - QPushButton to show greeting\n",
    "    - QLabel that displays greeting\n",
    "\n",
    "When the user presses the button, the label at the bottom should display \"Hello [prefix] [first name] [last name]\"\n",
    "\n",
    "QFormLayouts are simplified for rows of widgets. Use the \"addRow\" function to add widgets to your window.\n",
    "\n",
    "__NOTE__: Don't know what \"addRow\" is? Look it up in the documentation for QFormLayout by googling PyQt QFormLayout"
   ]
  },
  {
   "cell_type": "markdown",
   "metadata": {},
   "source": [
    "It's useful to design UI in code, but it's easier to see what you're designing in an editor. PyQt's editor is called Designer.\n",
    "\n",
    "To open the designer, go to your Anaconda directory, at Anaconda/Lib/site-packages/PyQt4/ or run the following"
   ]
  },
  {
   "cell_type": "code",
   "execution_count": 15,
   "metadata": {
    "collapsed": false
   },
   "outputs": [
    {
     "data": {
      "text/plain": [
       "'C:\\\\Anaconda2\\\\lib\\\\site-packages\\\\PyQt4\\\\designer'"
      ]
     },
     "execution_count": 15,
     "metadata": {},
     "output_type": "execute_result"
    }
   ],
   "source": [
    "import PyQt4\n",
    "PyQt4.__path__\n",
    "# this is the location of the designer software to create Python "
   ]
  },
  {
   "cell_type": "markdown",
   "metadata": {
    "collapsed": true
   },
   "source": [
    "### Exercise\n",
    "Now, let's design a text editor.  Use a MainWindow with a menubar to allow the user to open and save their files.  Use a QTextEdit as the area in which the user types. And use the statusbar to display messages about the file.\n",
    "\n",
    "__HINT__: Play around with Designer a bit to see what other widgets you might want to add, or use in future projects.\n",
    "\n",
    "\n",
    "Once you have your widget designed, save the ui file somewhere accessible. You're going to need the path.  Use the following code to load your UI and all the widgets within it"
   ]
  },
  {
   "cell_type": "code",
   "execution_count": null,
   "metadata": {
    "collapsed": true
   },
   "outputs": [],
   "source": [
    "from PyQt4 import uic\n",
    "\n",
    "window = uis.loadUi('path/to/window.ui')\n",
    "window.show()"
   ]
  },
  {
   "cell_type": "markdown",
   "metadata": {},
   "source": [
    "Your designed UI is accessible via the window variable\n",
    "\n",
    "So, if you added a QLineEdit to your window and named it nameEdit, you could set the text by writing:"
   ]
  },
  {
   "cell_type": "code",
   "execution_count": null,
   "metadata": {
    "collapsed": true
   },
   "outputs": [],
   "source": [
    "window.nameEdit.setText(\"Your Name Here\")"
   ]
  }
 ],
 "metadata": {
  "kernelspec": {
   "display_name": "Python 2",
   "language": "python",
   "name": "python2"
  },
  "language_info": {
   "codemirror_mode": {
    "name": "ipython",
    "version": 2
   },
   "file_extension": ".py",
   "mimetype": "text/x-python",
   "name": "python",
   "nbconvert_exporter": "python",
   "pygments_lexer": "ipython2",
   "version": "2.7.10"
  }
 },
 "nbformat": 4,
 "nbformat_minor": 0
}
