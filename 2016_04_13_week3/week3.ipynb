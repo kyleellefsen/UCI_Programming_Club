{
 "cells": [
  {
   "cell_type": "markdown",
   "metadata": {},
   "source": [
    "# Neurobio Programming Club Week 3\n",
    "\n",
    "\n",
    "* Our website: [kyleellefsen.github.io/UCI_Programming_Club/](http://kyleellefsen.github.io/UCI_Programming_Club/)\n",
    "* Our codeshare: [codeshare.io/pYj0e](https://codeshare.io/pYj0e)\n",
    "\n",
    "\n"
   ]
  },
  {
   "cell_type": "markdown",
   "metadata": {},
   "source": [
    "# Week 2 Recap\n",
    "\n",
    "The notebook from last week is located on the website: http://kyleellefsen.github.io/UCI_Programming_Club/2016_04_06_week2/week2.html\n",
    "\n",
    "Last week we worked on data input/output, importing python libraries, loops, and tabular data manipulation.  This week we're going to start using an extremely popular numerical data package: numpy."
   ]
  },
  {
   "cell_type": "markdown",
   "metadata": {},
   "source": [
    "# Instructions\n",
    "Get in groups of 2 or 3.  Each group must have at least:\n",
    "\n",
    "* 1 person who is familiar with the basics of python\n",
    "* 1 person who is new to python\n",
    "\n",
    "Today we will be doing a series of challenges designed to get you through the basics of programming.  Each challenge will require you to write some code to get an answer.  To figure out how to write the code you need, you can use your group members, the internet, or anything else.  You can even use other groups, but they might not appreciate that.  Because...\n",
    "\n",
    "The first two groups to solve the problem will get a prize.  A requirement for solving is that *every* group member must have coded the solution.  Everyone with a laptop must have also displayed the answer.  If you didn't bring a laptop, you'll have to have physically written out the code, exactly as it would be typed.  Obviously, people without laptops won't be able to get python to produce an answer. :( \n",
    "\n",
    "Let's begin!\n",
    "\n"
   ]
  },
  {
   "cell_type": "markdown",
   "metadata": {},
   "source": [
    "#  \n",
    "#  \n",
    "#  \n",
    "#  \n",
    "#  \n",
    "#  \n",
    "#  \n",
    "#  \n",
    "#  \n",
    "#  \n",
    "#  \n",
    "#  \n",
    "#  \n",
    "#  \n",
    "#  \n",
    "#  \n",
    "#  \n",
    "#  \n",
    "#  \n",
    "#  \n",
    "#  \n"
   ]
  },
  {
   "cell_type": "markdown",
   "metadata": {},
   "source": [
    "# Challenge 1: numpy and matplotlib\n",
    "\n",
    "Numpy is a package that is useful for manipulating numerical data.  Matplotlib is a package that is useful for generating matlab-like publication quality figures.  To import numpy and matplotlib, use the following syntax: \n",
    "\n"
   ]
  },
  {
   "cell_type": "code",
   "execution_count": null,
   "metadata": {
    "collapsed": true
   },
   "outputs": [],
   "source": [
    "import numpy as np\n",
    "import matplotlib.pyplot as plt"
   ]
  },
  {
   "cell_type": "markdown",
   "metadata": {},
   "source": [
    "The challenge: \n",
    "1. Import numpy and matplotlib\n",
    "2. Simulate a numpy array of length 10 filled with random numbers wich are normally distributed.  \n",
    "3. Find mean of these numbers\n",
    "4. Repeat the last two steps 1,000,000 times, saving the mean in a numpy array which has a length of 1,000,000.\n",
    "5. Plot a histogram of the numpy array of means.  \n",
    "6. Repeat steps 2-5 with a random numpy array of length 100, rather than length 10.  How does this histogram compare with the histogram using arrays of length 10? Plot both histograms on the same axis with different colors.\n"
   ]
  },
  {
   "cell_type": "markdown",
   "metadata": {},
   "source": [
    "\n",
    "#  \n",
    "#  \n",
    "#  \n",
    "#  \n",
    "#  \n",
    "#  "
   ]
  },
  {
   "cell_type": "markdown",
   "metadata": {},
   "source": [
    "# Challenge 2: Random Walk Simulation\n",
    "\n",
    "Suppose you have a particle that is suspended in water and it is moving randomly.  At the start time (time=0), the particle is at the origin (x=0,y=0,z=0).  You can simulate its random walk by dividing time into small timesteps.  In every time step, the particle will move a small distance from where it was in the previous time step. You can use a random number generator to determine how much it moved in a timestep.  You can then add that displacement to its location, to get its location at the new timestep.  \n",
    "\n",
    "For instance, at time=0 our particle is at x=0.  In the next timestep, lets say our random number generator gives us a -.57.  We add the original position and the displacement 0 + -.57 = -.57.  Now we know where it is in that timestep.  Now our random number generator gives us a 1.9.  Then we add the position and the displacement -.57+1.9=1.33.  Now our particle is at x=1.33.  \n",
    "\n",
    "The challenge:\n",
    "\n",
    "* Assuming that at every time step the particle travels a distance along each axis given by a normal distribution with a standard deviation of 1, use simulation to determine what probability of particles will have be 10 units of distance away from the origin after 100 time steps.  To determine this probability, you'll need to simulate many particles.\n",
    "\n",
    "\n",
    "Although it might not seem like it, this problem contains many subproblems that are useful for programming in general, so don't think that \"Because I don't want to do simulations of particles professionally, this exercise isn't useful for me.\"  It is. "
   ]
  },
  {
   "cell_type": "markdown",
   "metadata": {},
   "source": [
    "![Random Walk](https://upload.wikimedia.org/wikipedia/commons/1/18/Random_walk_2000000.png)\n",
    "\n",
    "\n",
    "\n",
    "#  \n",
    "#  \n",
    "#  \n",
    "#  \n",
    "#  \n",
    "#  "
   ]
  }
 ],
 "metadata": {
  "kernelspec": {
   "display_name": "Python 2",
   "language": "python",
   "name": "python2"
  },
  "language_info": {
   "codemirror_mode": {
    "name": "ipython",
    "version": 2
   },
   "file_extension": ".py",
   "mimetype": "text/x-python",
   "name": "python",
   "nbconvert_exporter": "python",
   "pygments_lexer": "ipython2",
   "version": "2.7.11"
  }
 },
 "nbformat": 4,
 "nbformat_minor": 0
}
